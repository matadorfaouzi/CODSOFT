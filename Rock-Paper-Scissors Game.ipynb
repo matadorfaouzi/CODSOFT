{
 "cells": [
  {
   "cell_type": "code",
   "execution_count": 1,
   "id": "bb32ba24-3a49-4707-a428-5f4416a1ef93",
   "metadata": {},
   "outputs": [
    {
     "name": "stdout",
     "output_type": "stream",
     "text": [
      "Defaulting to user installation because normal site-packages is not writeable\n",
      "Requirement already satisfied: dash in c:\\users\\user\\appdata\\roaming\\python\\python311\\site-packages (2.17.1)\n",
      "Requirement already satisfied: Flask<3.1,>=1.0.4 in c:\\programdata\\anaconda3\\lib\\site-packages (from dash) (2.2.5)\n",
      "Requirement already satisfied: Werkzeug<3.1 in c:\\programdata\\anaconda3\\lib\\site-packages (from dash) (2.2.3)\n",
      "Requirement already satisfied: plotly>=5.0.0 in c:\\users\\user\\appdata\\roaming\\python\\python311\\site-packages (from dash) (5.13.0)\n",
      "Requirement already satisfied: dash-html-components==2.0.0 in c:\\users\\user\\appdata\\roaming\\python\\python311\\site-packages (from dash) (2.0.0)\n",
      "Requirement already satisfied: dash-core-components==2.0.0 in c:\\users\\user\\appdata\\roaming\\python\\python311\\site-packages (from dash) (2.0.0)\n",
      "Requirement already satisfied: dash-table==5.0.0 in c:\\users\\user\\appdata\\roaming\\python\\python311\\site-packages (from dash) (5.0.0)\n",
      "Requirement already satisfied: importlib-metadata in c:\\programdata\\anaconda3\\lib\\site-packages (from dash) (7.0.1)\n",
      "Requirement already satisfied: typing-extensions>=4.1.1 in c:\\users\\user\\appdata\\roaming\\python\\python311\\site-packages (from dash) (4.12.2)\n",
      "Requirement already satisfied: requests in c:\\programdata\\anaconda3\\lib\\site-packages (from dash) (2.31.0)\n",
      "Requirement already satisfied: retrying in c:\\users\\user\\appdata\\roaming\\python\\python311\\site-packages (from dash) (1.3.4)\n",
      "Requirement already satisfied: nest-asyncio in c:\\programdata\\anaconda3\\lib\\site-packages (from dash) (1.6.0)\n",
      "Requirement already satisfied: setuptools in c:\\programdata\\anaconda3\\lib\\site-packages (from dash) (68.2.2)\n",
      "Requirement already satisfied: Jinja2>=3.0 in c:\\programdata\\anaconda3\\lib\\site-packages (from Flask<3.1,>=1.0.4->dash) (3.1.3)\n",
      "Requirement already satisfied: itsdangerous>=2.0 in c:\\programdata\\anaconda3\\lib\\site-packages (from Flask<3.1,>=1.0.4->dash) (2.0.1)\n",
      "Requirement already satisfied: click>=8.0 in c:\\programdata\\anaconda3\\lib\\site-packages (from Flask<3.1,>=1.0.4->dash) (8.1.7)\n",
      "Requirement already satisfied: tenacity>=6.2.0 in c:\\programdata\\anaconda3\\lib\\site-packages (from plotly>=5.0.0->dash) (8.2.2)\n",
      "Requirement already satisfied: MarkupSafe>=2.1.1 in c:\\programdata\\anaconda3\\lib\\site-packages (from Werkzeug<3.1->dash) (2.1.3)\n",
      "Requirement already satisfied: zipp>=0.5 in c:\\programdata\\anaconda3\\lib\\site-packages (from importlib-metadata->dash) (3.17.0)\n",
      "Requirement already satisfied: charset-normalizer<4,>=2 in c:\\programdata\\anaconda3\\lib\\site-packages (from requests->dash) (2.0.4)\n",
      "Requirement already satisfied: idna<4,>=2.5 in c:\\programdata\\anaconda3\\lib\\site-packages (from requests->dash) (3.4)\n",
      "Requirement already satisfied: urllib3<3,>=1.21.1 in c:\\programdata\\anaconda3\\lib\\site-packages (from requests->dash) (2.0.7)\n",
      "Requirement already satisfied: certifi>=2017.4.17 in c:\\programdata\\anaconda3\\lib\\site-packages (from requests->dash) (2024.2.2)\n",
      "Requirement already satisfied: six>=1.7.0 in c:\\programdata\\anaconda3\\lib\\site-packages (from retrying->dash) (1.16.0)\n",
      "Requirement already satisfied: colorama in c:\\programdata\\anaconda3\\lib\\site-packages (from click>=8.0->Flask<3.1,>=1.0.4->dash) (0.4.6)\n"
     ]
    }
   ],
   "source": [
    "!pip install dash"
   ]
  },
  {
   "cell_type": "code",
   "execution_count": 2,
   "id": "657cb438-1692-4c46-87c3-41ba8c14090f",
   "metadata": {},
   "outputs": [
    {
     "name": "stdout",
     "output_type": "stream",
     "text": [
      "Defaulting to user installation because normal site-packages is not writeable\n",
      "Requirement already satisfied: dash-bootstrap-components in c:\\users\\user\\appdata\\roaming\\python\\python311\\site-packages (1.6.0)\n",
      "Requirement already satisfied: dash>=2.0.0 in c:\\users\\user\\appdata\\roaming\\python\\python311\\site-packages (from dash-bootstrap-components) (2.17.1)\n",
      "Requirement already satisfied: Flask<3.1,>=1.0.4 in c:\\programdata\\anaconda3\\lib\\site-packages (from dash>=2.0.0->dash-bootstrap-components) (2.2.5)\n",
      "Requirement already satisfied: Werkzeug<3.1 in c:\\programdata\\anaconda3\\lib\\site-packages (from dash>=2.0.0->dash-bootstrap-components) (2.2.3)\n",
      "Requirement already satisfied: plotly>=5.0.0 in c:\\users\\user\\appdata\\roaming\\python\\python311\\site-packages (from dash>=2.0.0->dash-bootstrap-components) (5.13.0)\n",
      "Requirement already satisfied: dash-html-components==2.0.0 in c:\\users\\user\\appdata\\roaming\\python\\python311\\site-packages (from dash>=2.0.0->dash-bootstrap-components) (2.0.0)\n",
      "Requirement already satisfied: dash-core-components==2.0.0 in c:\\users\\user\\appdata\\roaming\\python\\python311\\site-packages (from dash>=2.0.0->dash-bootstrap-components) (2.0.0)\n",
      "Requirement already satisfied: dash-table==5.0.0 in c:\\users\\user\\appdata\\roaming\\python\\python311\\site-packages (from dash>=2.0.0->dash-bootstrap-components) (5.0.0)\n",
      "Requirement already satisfied: importlib-metadata in c:\\programdata\\anaconda3\\lib\\site-packages (from dash>=2.0.0->dash-bootstrap-components) (7.0.1)\n",
      "Requirement already satisfied: typing-extensions>=4.1.1 in c:\\users\\user\\appdata\\roaming\\python\\python311\\site-packages (from dash>=2.0.0->dash-bootstrap-components) (4.12.2)\n",
      "Requirement already satisfied: requests in c:\\programdata\\anaconda3\\lib\\site-packages (from dash>=2.0.0->dash-bootstrap-components) (2.31.0)\n",
      "Requirement already satisfied: retrying in c:\\users\\user\\appdata\\roaming\\python\\python311\\site-packages (from dash>=2.0.0->dash-bootstrap-components) (1.3.4)\n",
      "Requirement already satisfied: nest-asyncio in c:\\programdata\\anaconda3\\lib\\site-packages (from dash>=2.0.0->dash-bootstrap-components) (1.6.0)\n",
      "Requirement already satisfied: setuptools in c:\\programdata\\anaconda3\\lib\\site-packages (from dash>=2.0.0->dash-bootstrap-components) (68.2.2)\n",
      "Requirement already satisfied: Jinja2>=3.0 in c:\\programdata\\anaconda3\\lib\\site-packages (from Flask<3.1,>=1.0.4->dash>=2.0.0->dash-bootstrap-components) (3.1.3)\n",
      "Requirement already satisfied: itsdangerous>=2.0 in c:\\programdata\\anaconda3\\lib\\site-packages (from Flask<3.1,>=1.0.4->dash>=2.0.0->dash-bootstrap-components) (2.0.1)\n",
      "Requirement already satisfied: click>=8.0 in c:\\programdata\\anaconda3\\lib\\site-packages (from Flask<3.1,>=1.0.4->dash>=2.0.0->dash-bootstrap-components) (8.1.7)\n",
      "Requirement already satisfied: tenacity>=6.2.0 in c:\\programdata\\anaconda3\\lib\\site-packages (from plotly>=5.0.0->dash>=2.0.0->dash-bootstrap-components) (8.2.2)\n",
      "Requirement already satisfied: MarkupSafe>=2.1.1 in c:\\programdata\\anaconda3\\lib\\site-packages (from Werkzeug<3.1->dash>=2.0.0->dash-bootstrap-components) (2.1.3)\n",
      "Requirement already satisfied: zipp>=0.5 in c:\\programdata\\anaconda3\\lib\\site-packages (from importlib-metadata->dash>=2.0.0->dash-bootstrap-components) (3.17.0)\n",
      "Requirement already satisfied: charset-normalizer<4,>=2 in c:\\programdata\\anaconda3\\lib\\site-packages (from requests->dash>=2.0.0->dash-bootstrap-components) (2.0.4)\n",
      "Requirement already satisfied: idna<4,>=2.5 in c:\\programdata\\anaconda3\\lib\\site-packages (from requests->dash>=2.0.0->dash-bootstrap-components) (3.4)\n",
      "Requirement already satisfied: urllib3<3,>=1.21.1 in c:\\programdata\\anaconda3\\lib\\site-packages (from requests->dash>=2.0.0->dash-bootstrap-components) (2.0.7)\n",
      "Requirement already satisfied: certifi>=2017.4.17 in c:\\programdata\\anaconda3\\lib\\site-packages (from requests->dash>=2.0.0->dash-bootstrap-components) (2024.2.2)\n",
      "Requirement already satisfied: six>=1.7.0 in c:\\programdata\\anaconda3\\lib\\site-packages (from retrying->dash>=2.0.0->dash-bootstrap-components) (1.16.0)\n",
      "Requirement already satisfied: colorama in c:\\programdata\\anaconda3\\lib\\site-packages (from click>=8.0->Flask<3.1,>=1.0.4->dash>=2.0.0->dash-bootstrap-components) (0.4.6)\n"
     ]
    }
   ],
   "source": [
    "!pip install dash-bootstrap-components"
   ]
  },
  {
   "cell_type": "code",
   "execution_count": 3,
   "id": "639e7391-5bc3-422b-adaa-2ea60331e5f1",
   "metadata": {},
   "outputs": [],
   "source": [
    "from dash import Dash, html, dcc, Output, Input"
   ]
  },
  {
   "cell_type": "code",
   "execution_count": 4,
   "id": "9df9576c-1193-4f70-b4c9-4223b5065e43",
   "metadata": {},
   "outputs": [],
   "source": [
    "import dash_bootstrap_components as dbc "
   ]
  },
  {
   "cell_type": "code",
   "execution_count": 5,
   "id": "645c71db-2863-4e54-9438-c2f044113ad6",
   "metadata": {},
   "outputs": [],
   "source": [
    "import random"
   ]
  },
  {
   "cell_type": "code",
   "execution_count": 14,
   "id": "e187662a-2c12-4c82-943f-38880031c6e4",
   "metadata": {},
   "outputs": [],
   "source": [
    "#1st method: simple method\n",
    "Choix = ['Rock', 'paper', 'Scissors']  \n",
    "result = {'Player' : 0, 'Computer' : 0}\n",
    "def player_vs_PC():  \n",
    "    print(\"Choix disponibles :\", Choix)  # Shows the list of choices\n",
    "    rand_player = random.choice(Choix)  # Randomly choose for the player  \n",
    "    rand_PC = random.choice(Choix)       # Randomly choose for computer\n",
    "    \n",
    "    print(f\"The player has chosen : {rand_player}\")  \n",
    "    print(f\"The computer has chosen : {rand_PC}\")  \n",
    "\n",
    "    # Déterminer le gagnant  \n",
    "    if rand_player == rand_PC:  \n",
    "        print(\"Match nul\")  \n",
    "    elif (rand_player == 'Rock' and rand_PC == 'Scissors') or \\\n",
    "         (rand_player == 'Scissors' and rand_PC == 'paper') or \\\n",
    "         (rand_player == 'paper' and rand_PC == 'Rock'):  \n",
    "        print(\"The player wins!\")  \n",
    "        return \"The player wins!\"\n",
    "    else:  \n",
    "        print(\"The computer wins!\")\n",
    "        return \"The computer wins!\""
   ]
  },
  {
   "cell_type": "code",
   "execution_count": 18,
   "id": "74b42533-beb4-479a-af3b-23fc51ad41b5",
   "metadata": {},
   "outputs": [
    {
     "name": "stdout",
     "output_type": "stream",
     "text": [
      "Choix disponibles : ['Rock', 'paper', 'Scissors']\n",
      "The player has chosen : paper\n",
      "The computer has chosen : Rock\n",
      "The player wins!\n"
     ]
    },
    {
     "data": {
      "text/plain": [
       "'The player wins!'"
      ]
     },
     "execution_count": 18,
     "metadata": {},
     "output_type": "execute_result"
    }
   ],
   "source": [
    "# Calling the function  \n",
    "player_vs_PC()  "
   ]
  },
  {
   "cell_type": "code",
   "execution_count": 19,
   "id": "8a152891-82be-495d-8ee3-2007f2e5f993",
   "metadata": {},
   "outputs": [
    {
     "data": {
      "text/html": [
       "\n",
       "        <iframe\n",
       "            width=\"100%\"\n",
       "            height=\"650\"\n",
       "            src=\"http://127.0.0.1:8050/\"\n",
       "            frameborder=\"0\"\n",
       "            allowfullscreen\n",
       "            \n",
       "        ></iframe>\n",
       "        "
      ],
      "text/plain": [
       "<IPython.lib.display.IFrame at 0x1c8a49046d0>"
      ]
     },
     "metadata": {},
     "output_type": "display_data"
    }
   ],
   "source": [
    "#2nd method: with graphic buttons\n",
    "import random  # Random imports \n",
    "from dash import Dash, html, Input, Output, callback_context  # Dash Imports  \n",
    "import dash_bootstrap_components as dbc  # Importing Bootstrap for Dash \n",
    "\n",
    "Choix = ['Rock', 'Paper', 'Scissors']  \n",
    "score = {'Player': 0, 'Computer': 0}   \n",
    "\n",
    "# Function that determines the winner \n",
    "def player_vs_PC():  \n",
    "    global score  # To access the overall score \n",
    "    \n",
    "    rand_player = random.choice(Choix)  # Randomly chosen for the player  \n",
    "    rand_PC = random.choice(Choix)       # Randomly chosen for the computer  \n",
    "\n",
    "    # Determine the winner \n",
    "    if rand_player == rand_PC:  \n",
    "        result_message = \"Match nul\"  \n",
    "    elif (rand_player == 'Rock' and rand_PC == 'Scissors') or \\\n",
    "         (rand_player == 'Scissors' and rand_PC == 'Paper') or \\\n",
    "         (rand_player == 'Paper' and rand_PC == 'Rock'):  \n",
    "        result_message = f\"The player has chosen {rand_player}. The computer has chosen {rand_PC}. The player wins!\"  \n",
    "        score['Player'] += 1  \n",
    "    else:  \n",
    "        result_message = f\"The player has chosen {rand_player}. The computer has chosen {rand_PC}. The computer wins!\"  \n",
    "        score['Computer'] += 1  \n",
    "    \n",
    "    # Create a text string with the score\n",
    "    result = f\"{result_message} Total Player = {score['Player']} Total Computer = {score['Computer']}\"  \n",
    "    return result  \n",
    "\n",
    "# Function to reset the score  \n",
    "def reset_score():  \n",
    "    global score  \n",
    "    score['Player'] = 0  \n",
    "    score['Computer'] = 0  \n",
    "    return \"Scores have been reset to 0.\"  \n",
    "\n",
    "# Initializes the Dash application  \n",
    "app = Dash(__name__, external_stylesheets=[dbc.themes.BOOTSTRAP])  \n",
    "\n",
    "# Application layout  \n",
    "app.layout = html.Div([  \n",
    "    dbc.Button(\"Play Now\", id=\"play-button\", color=\"primary\"),  \n",
    "    dbc.Button(\"Reset Score\", id=\"reset-button\", color=\"danger\", style={\"marginLeft\": \"10px\"}),  \n",
    "    html.Div(id=\"result-output\", style={\"marginTop\": 20})  \n",
    "])  \n",
    "\n",
    "# Callback to update the result when the \"Play Now\" button is clicked \n",
    "@app.callback(  \n",
    "    Output(\"result-output\", \"children\"),  \n",
    "    Input(\"play-button\", \"n_clicks\"),  \n",
    "    Input(\"reset-button\", \"n_clicks\")  \n",
    ")  \n",
    "def update_game(play_clicks, reset_clicks):  \n",
    "    ctx = callback_context  # Edit here to use callback_context correctly  \n",
    "\n",
    "    if reset_clicks:  \n",
    "        return reset_score()  # Reset score \n",
    "\n",
    "    if play_clicks is None:  \n",
    "        return \"Click the button to play.\"  \n",
    "    else:  \n",
    "        return player_vs_PC()  # Play a game  \n",
    "\n",
    "# Running the application  \n",
    "if __name__ == '__main__':  \n",
    "    app.run_server(debug=True)"
   ]
  },
  {
   "cell_type": "code",
   "execution_count": null,
   "id": "3946f495-35e6-468b-9f7e-c388f167d8be",
   "metadata": {},
   "outputs": [],
   "source": []
  }
 ],
 "metadata": {
  "kernelspec": {
   "display_name": "Python 3 (ipykernel)",
   "language": "python",
   "name": "python3"
  },
  "language_info": {
   "codemirror_mode": {
    "name": "ipython",
    "version": 3
   },
   "file_extension": ".py",
   "mimetype": "text/x-python",
   "name": "python",
   "nbconvert_exporter": "python",
   "pygments_lexer": "ipython3",
   "version": "3.11.7"
  }
 },
 "nbformat": 4,
 "nbformat_minor": 5
}
